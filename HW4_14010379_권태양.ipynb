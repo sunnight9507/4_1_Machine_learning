{
 "cells": [
  {
   "cell_type": "markdown",
   "metadata": {},
   "source": [
    "# K-means, Gaussian Mixture Model 직접 구현하기"
   ]
  },
  {
   "cell_type": "markdown",
   "metadata": {},
   "source": [
    "이번 과제에서는 Unsupervised Algorithm 의 대표적인 군집화 알고리즘 두개를 직접 구현해보도록 한다."
   ]
  },
  {
   "cell_type": "markdown",
   "metadata": {},
   "source": [
    "먼저 IRIS 데이터를 읽도록 하자 (IRIS데이터에는 레이블 값이 존재하나, 이번 과제에서는 레이블 값을 무시하고, 데이터포인트만 사용한다)"
   ]
  },
  {
   "cell_type": "code",
   "execution_count": 1,
   "metadata": {},
   "outputs": [],
   "source": [
    "from sklearn import datasets\n",
    "# import some data to play with\n",
    "iris = datasets.load_iris()\n",
    "X = iris.data[:, :2]  # we only take the first two features."
   ]
  },
  {
   "cell_type": "code",
   "execution_count": 2,
   "metadata": {},
   "outputs": [],
   "source": [
    "import matplotlib.pyplot as plt\n",
    "%matplotlib inline"
   ]
  },
  {
   "cell_type": "code",
   "execution_count": 3,
   "metadata": {},
   "outputs": [
    {
     "data": {
      "text/plain": [
       "<matplotlib.collections.PathCollection at 0x282ad5b74e0>"
      ]
     },
     "execution_count": 3,
     "metadata": {},
     "output_type": "execute_result"
    },
    {
     "data": {
      "image/png": "[encoded data removed]",
      "text/plain": [
       "<Figure size 432x288 with 1 Axes>"
      ]
     },
     "metadata": {
      "needs_background": "light"
     },
     "output_type": "display_data"
    }
   ],
   "source": [
    "plt.scatter(X[:,0], X[:,1])"
   ]
  },
  {
   "cell_type": "markdown",
   "metadata": {},
   "source": [
    "을 군집화가 세개 있다고 가정하고, K-means 와 GMM으로 각 좌표가 어느 집단에 속하는지 추측해보도록 하자."
   ]
  },
  {
   "cell_type": "markdown",
   "metadata": {},
   "source": [
    "## 1. K-means 를 DataFrame 을 사용하여, 구해보자. 다음의 힌트를 사용하시오."
   ]
  },
  {
   "cell_type": "code",
   "execution_count": 4,
   "metadata": {},
   "outputs": [],
   "source": [
    "import pandas as pd\n",
    "import numpy as np\n",
    "df = pd.DataFrame({\n",
    "    'user_id':[1,2,1,3,3,],\n",
    "    'content_score':[4,1,2,3.5,2],\n",
    "})"
   ]
  },
  {
   "cell_type": "code",
   "execution_count": 5,
   "metadata": {},
   "outputs": [
    {
     "data": {
      "text/html": [
       "<div>\n",
       "<style scoped>\n",
       "    .dataframe tbody tr th:only-of-type {\n",
       "        vertical-align: middle;\n",
       "    }\n",
       "\n",
       "    .dataframe tbody tr th {\n",
       "        vertical-align: top;\n",
       "    }\n",
       "\n",
       "    .dataframe thead th {\n",
       "        text-align: right;\n",
       "    }\n",
       "</style>\n",
       "<table border=\"1\" class=\"dataframe\">\n",
       "  <thead>\n",
       "    <tr style=\"text-align: right;\">\n",
       "      <th></th>\n",
       "      <th>user_id</th>\n",
       "      <th>content_score</th>\n",
       "    </tr>\n",
       "  </thead>\n",
       "  <tbody>\n",
       "    <tr>\n",
       "      <th>0</th>\n",
       "      <td>1</td>\n",
       "      <td>4.0</td>\n",
       "    </tr>\n",
       "    <tr>\n",
       "      <th>1</th>\n",
       "      <td>2</td>\n",
       "      <td>1.0</td>\n",
       "    </tr>\n",
       "    <tr>\n",
       "      <th>2</th>\n",
       "      <td>1</td>\n",
       "      <td>2.0</td>\n",
       "    </tr>\n",
       "    <tr>\n",
       "      <th>3</th>\n",
       "      <td>3</td>\n",
       "      <td>3.5</td>\n",
       "    </tr>\n",
       "    <tr>\n",
       "      <th>4</th>\n",
       "      <td>3</td>\n",
       "      <td>2.0</td>\n",
       "    </tr>\n",
       "  </tbody>\n",
       "</table>\n",
       "</div>"
      ],
      "text/plain": [
       "   user_id  content_score\n",
       "0        1            4.0\n",
       "1        2            1.0\n",
       "2        1            2.0\n",
       "3        3            3.5\n",
       "4        3            2.0"
      ]
     },
     "execution_count": 5,
     "metadata": {},
     "output_type": "execute_result"
    }
   ],
   "source": [
    "df"
   ]
  },
  {
   "cell_type": "markdown",
   "metadata": {},
   "source": [
    "user_id 로 묶어서, 컨텐츠의 평균 점수를 구하는 코드는 아래와 같다."
   ]
  },
  {
   "cell_type": "code",
   "execution_count": 6,
   "metadata": {},
   "outputs": [
    {
     "data": {
      "text/plain": [
       "user_id\n",
       "1    3.00\n",
       "2    1.00\n",
       "3    2.75\n",
       "Name: content_score, dtype: float64"
      ]
     },
     "execution_count": 6,
     "metadata": {},
     "output_type": "execute_result"
    }
   ],
   "source": [
    "df.groupby(\"user_id\")[\"content_score\"].mean()"
   ]
  },
  {
   "cell_type": "markdown",
   "metadata": {},
   "source": [
    "참고로, 위 평균 series 를 처음 데이터프레임에 합치는 방법은 다음과 같다."
   ]
  },
  {
   "cell_type": "code",
   "execution_count": 7,
   "metadata": {},
   "outputs": [
    {
     "data": {
      "text/html": [
       "<div>\n",
       "<style scoped>\n",
       "    .dataframe tbody tr th:only-of-type {\n",
       "        vertical-align: middle;\n",
       "    }\n",
       "\n",
       "    .dataframe tbody tr th {\n",
       "        vertical-align: top;\n",
       "    }\n",
       "\n",
       "    .dataframe thead th {\n",
       "        text-align: right;\n",
       "    }\n",
       "</style>\n",
       "<table border=\"1\" class=\"dataframe\">\n",
       "  <thead>\n",
       "    <tr style=\"text-align: right;\">\n",
       "      <th></th>\n",
       "      <th>user_id</th>\n",
       "      <th>content_score</th>\n",
       "      <th>group_mean</th>\n",
       "    </tr>\n",
       "  </thead>\n",
       "  <tbody>\n",
       "    <tr>\n",
       "      <th>0</th>\n",
       "      <td>1</td>\n",
       "      <td>4.0</td>\n",
       "      <td>3.00</td>\n",
       "    </tr>\n",
       "    <tr>\n",
       "      <th>1</th>\n",
       "      <td>2</td>\n",
       "      <td>1.0</td>\n",
       "      <td>1.00</td>\n",
       "    </tr>\n",
       "    <tr>\n",
       "      <th>2</th>\n",
       "      <td>1</td>\n",
       "      <td>2.0</td>\n",
       "      <td>3.00</td>\n",
       "    </tr>\n",
       "    <tr>\n",
       "      <th>3</th>\n",
       "      <td>3</td>\n",
       "      <td>3.5</td>\n",
       "      <td>2.75</td>\n",
       "    </tr>\n",
       "    <tr>\n",
       "      <th>4</th>\n",
       "      <td>3</td>\n",
       "      <td>2.0</td>\n",
       "      <td>2.75</td>\n",
       "    </tr>\n",
       "  </tbody>\n",
       "</table>\n",
       "</div>"
      ],
      "text/plain": [
       "   user_id  content_score  group_mean\n",
       "0        1            4.0        3.00\n",
       "1        2            1.0        1.00\n",
       "2        1            2.0        3.00\n",
       "3        3            3.5        2.75\n",
       "4        3            2.0        2.75"
      ]
     },
     "execution_count": 7,
     "metadata": {},
     "output_type": "execute_result"
    }
   ],
   "source": [
    "df['group_mean'] = df['content_score'].groupby(df['user_id']).transform('mean')\n",
    "df"
   ]
  },
  {
   "cell_type": "markdown",
   "metadata": {},
   "source": [
    "여기서부터 본인들이 할 것. pandas apply 함수를 찾아볼 것."
   ]
  },
  {
   "cell_type": "markdown",
   "metadata": {},
   "source": [
    "### K-means 로 직접 데이터의 군집을 추측하여, 색깔을 입혀 그래프로 그리시오."
   ]
  },
  {
   "cell_type": "code",
   "execution_count": 8,
   "metadata": {},
   "outputs": [],
   "source": [
    "predicted_means = np.array([[4,3],[6,4],[8,4]]) # 전체 데이터의 각 끝 점으로 추측"
   ]
  },
  {
   "cell_type": "markdown",
   "metadata": {},
   "source": [
    "아래 코드를 계속 반복해서 실행해보면 Class가 바뀌는 걸 확인할 수 있습니다."
   ]
  },
  {
   "cell_type": "code",
   "execution_count": 9,
   "metadata": {
    "scrolled": true
   },
   "outputs": [
    {
     "data": {
      "image/png": "[encoded data removed]",
      "text/plain": [
       "<Figure size 432x288 with 1 Axes>"
      ]
     },
     "metadata": {
      "needs_background": "light"
     },
     "output_type": "display_data"
    }
   ],
   "source": [
    "# 군집별 평균 값을 update하는 함수\n",
    "def updated(m):\n",
    "    predicted_means = np.array([[m.iloc[0,0],m.iloc[0,1]],[m.iloc[1,0],m.iloc[1,1]],[m.iloc[2,0],m.iloc[2,2]]])\n",
    "    return predicted_means\n",
    "\n",
    "EuclidianDistance=np.array([]).reshape(0,3)\n",
    "    \n",
    "# 각 데이터 별로 평균값과의 거리 구하는 코드\n",
    "for k in range(len(X)): \n",
    "    tempDist=np.sum((X[k,:]-predicted_means)**2,axis=1) \n",
    "    EuclidianDistance = np.vstack((EuclidianDistance,tempDist))\n",
    "        \n",
    "# 거리 중 가장 작은 값으로 Class 추정\n",
    "C=np.argmin(EuclidianDistance,axis=1)+1 \n",
    "    \n",
    "# 각 데이터마다 Class 값 붙여주기\n",
    "updated_data = pd.concat([pd.DataFrame(X[:,0:2]), pd.DataFrame(C)],axis =1)\n",
    "\n",
    "# Class 별로 그룹화 한 뒤 각 Class별 평균인 좌표 구하기\n",
    "m = updated_data.groupby(updated_data.iloc[:,2]).mean()\n",
    "\n",
    "# 각 Class별로 그래프\n",
    "plt.scatter(updated_data[updated_data.iloc[:,2] == 1].iloc[:,0],updated_data[updated_data.iloc[:,2] == 1].iloc[:,1])\n",
    "plt.scatter(updated_data[updated_data.iloc[:,2] == 2].iloc[:,0],updated_data[updated_data.iloc[:,2] == 2].iloc[:,1])\n",
    "plt.scatter(updated_data[updated_data.iloc[:,2] == 3].iloc[:,0],updated_data[updated_data.iloc[:,2] == 3].iloc[:,1])\n",
    "\n",
    "# 현재 각 Class별 평균의 좌표로 다시 update\n",
    "predicted_means = updated(m)"
   ]
  },
  {
   "cell_type": "markdown",
   "metadata": {},
   "source": [
    "대략 5-6번 정도를 반복하면 더이상 Class가 바뀌지 않는것을 확인할 수 있습니다."
   ]
  },
  {
   "cell_type": "markdown",
   "metadata": {},
   "source": [
    "## 2. 위 문제를 GMM 알고리즘을 직접 구현하여 각 좌표별로 군집단을 확률적으로 값을 구하여 출력하시오. (R,G,B 혼합색으로 표현해도 됨."
   ]
  },
  {
   "cell_type": "markdown",
   "metadata": {},
   "source": [
    "### 수업시간에 배운 GMM EM-algorithm 을 개선하여 속도를 빠르게 할 것. "
   ]
  },
  {
   "cell_type": "code",
   "execution_count": 10,
   "metadata": {},
   "outputs": [],
   "source": [
    "from scipy.stats import multivariate_normal as mvn"
   ]
  },
  {
   "cell_type": "code",
   "execution_count": 11,
   "metadata": {},
   "outputs": [],
   "source": [
    "def new_em_gmm_orig(xs, pis, mus, sigmas, tol=0.1, max_iter=15):\n",
    "\n",
    "    n, p = xs.shape\n",
    "    k = len(pis)\n",
    "\n",
    "    ll_old = 0\n",
    "    for i in range(max_iter):\n",
    "        exp_A = []\n",
    "        exp_B = []\n",
    "        ll_new = 0\n",
    "\n",
    "        # E-step\n",
    "        ws = np.zeros((k, n))\n",
    "        \n",
    "        A = np.array([])\n",
    "        A = A.reshape(-1,150)\n",
    "        a = []\n",
    "        \n",
    "        for j in range(len(mus)):\n",
    "            a = pis[j] * mvn(mus[j], sigmas[j]).pdf(xs)\n",
    "            a = a.reshape(-1,150)\n",
    "            A = np.vstack((A,a))\n",
    "    \n",
    "        sum_A = A.sum(0)\n",
    "        sum_A = sum_A.reshape(-1,150)\n",
    "        A /= sum_A\n",
    "        \n",
    "        # M-step\n",
    "        pis1 = np.zeros(k)\n",
    "        pis1 = A.sum(1)/n\n",
    "        \n",
    "        \n",
    "        mus = np.zeros((k, p))\n",
    "        A_sum = A.sum(1)\n",
    "        A_sum = A_sum.reshape(3,1)\n",
    "        mus = np.dot(A,xs)/A_sum\n",
    "        \n",
    "\n",
    "        sigmas = np.zeros((k, p, p)) \n",
    "        for j in range(k):\n",
    "            for i in range(n):\n",
    "                ys = np.reshape(xs[i]- mus[j], (2,1))\n",
    "                sigmas[j] += A[j, i] * np.dot(ys, ys.T)\n",
    "            sigmas[j] /= A[j,:].sum()\n",
    "        \n",
    "            \n",
    "        # update complete log likelihoood\n",
    "        ll_new = 0.0\n",
    "        for i in range(n):\n",
    "            s = 0\n",
    "            for j in range(k):\n",
    "                s += pis[j] * mvn(mus[j], sigmas[j]).pdf(xs[i])\n",
    "            ll_new += np.log(s)\n",
    "\n",
    "        if np.abs(ll_new - ll_old) < tol:\n",
    "            break\n",
    "        ll_old = ll_new\n",
    "        \n",
    "    \n",
    "    # 각 데이터의 확률을 확인하여 높은 확률값으로 Class 추정\n",
    "    \n",
    "    mm = np.argmax(A,axis = 0)\n",
    "\n",
    "    plt.scatter(xs[np.where(mm == 0),0],xs[np.where(mm == 0),1])\n",
    "    plt.scatter(xs[np.where(mm == 1),0],xs[np.where(mm == 1),1])\n",
    "    plt.scatter(xs[np.where(mm == 2),0],xs[np.where(mm == 2),1])\n",
    "    return ll_new, pis, mus, sigmas"
   ]
  },
  {
   "cell_type": "code",
   "execution_count": 12,
   "metadata": {},
   "outputs": [],
   "source": [
    "# create data set\n",
    "n = 1000  # number of dataset \n",
    "mus = np.array([[4,3],[6,4],[8,4]])\n",
    "sigmas = np.array([[[1, 0], [0, 1]],[[1,0],[0,1]],[[1,0],[0,1]]])"
   ]
  },
  {
   "cell_type": "code",
   "execution_count": 13,
   "metadata": {},
   "outputs": [
    {
     "data": {
      "text/plain": [
       "array([0.33333333, 0.33333333, 0.33333333])"
      ]
     },
     "execution_count": 13,
     "metadata": {},
     "output_type": "execute_result"
    }
   ],
   "source": [
    "pis = np.array([1/3,1/3,1/3])\n",
    "pis"
   ]
  },
  {
   "cell_type": "code",
   "execution_count": 14,
   "metadata": {},
   "outputs": [
    {
     "data": {
      "image/png": "[encoded data removed]",
      "text/plain": [
       "<Figure size 432x288 with 1 Axes>"
      ]
     },
     "metadata": {
      "needs_background": "light"
     },
     "output_type": "display_data"
    }
   ],
   "source": [
    "ll2, pis2, mus2, sigmas2 = new_em_gmm_orig(X, pis, mus, sigmas)"
   ]
  }
 ],
 "metadata": {
  "kernelspec": {
   "display_name": "Python 3",
   "language": "python",
   "name": "python3"
  },
  "language_info": {
   "codemirror_mode": {
    "name": "ipython",
    "version": 3
   },
   "file_extension": ".py",
   "mimetype": "text/x-python",
   "name": "python",
   "nbconvert_exporter": "python",
   "pygments_lexer": "ipython3",
   "version": "3.7.1"
  }
 },
 "nbformat": 4,
 "nbformat_minor": 2
}
